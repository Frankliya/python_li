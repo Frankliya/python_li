{
 "cells": [
  {
   "cell_type": "code",
   "execution_count": 1,
   "metadata": {},
   "outputs": [],
   "source": [
    "import pandas as pd\n",
    "import numpy as np\n",
    "from datetime import datetime"
   ]
  },
  {
   "cell_type": "code",
   "execution_count": 2,
   "metadata": {},
   "outputs": [],
   "source": [
    "dates = [datetime(2011,1,2),datetime(2011,1,5),\n",
    "        datetime(2011,1,7), datetime(2011,1,8),\n",
    "         datetime(2011,1,10), datetime(2011,1,12)\n",
    "        ]"
   ]
  },
  {
   "cell_type": "code",
   "execution_count": 3,
   "metadata": {},
   "outputs": [
    {
     "data": {
      "text/plain": [
       "2011-01-02    0.601376\n",
       "2011-01-05    0.002079\n",
       "2011-01-07    0.871344\n",
       "2011-01-08    0.412043\n",
       "2011-01-10   -1.799326\n",
       "2011-01-12    1.861718\n",
       "dtype: float64"
      ]
     },
     "execution_count": 3,
     "metadata": {},
     "output_type": "execute_result"
    }
   ],
   "source": [
    "ts = pd.Series(np.random.randn(6),index=dates)\n",
    "ts"
   ]
  },
  {
   "cell_type": "code",
   "execution_count": 4,
   "metadata": {},
   "outputs": [
    {
     "data": {
      "text/plain": [
       "DatetimeIndex(['2011-01-02', '2011-01-05', '2011-01-07', '2011-01-08',\n",
       "               '2011-01-10', '2011-01-12'],\n",
       "              dtype='datetime64[ns]', freq=None)"
      ]
     },
     "execution_count": 4,
     "metadata": {},
     "output_type": "execute_result"
    }
   ],
   "source": [
    "ts.index"
   ]
  },
  {
   "cell_type": "code",
   "execution_count": 5,
   "metadata": {},
   "outputs": [
    {
     "data": {
      "text/plain": [
       "2011-01-02    0.601376\n",
       "2011-01-07    0.871344\n",
       "2011-01-10   -1.799326\n",
       "dtype: float64"
      ]
     },
     "execution_count": 5,
     "metadata": {},
     "output_type": "execute_result"
    }
   ],
   "source": [
    "ts[::2]"
   ]
  },
  {
   "cell_type": "code",
   "execution_count": 7,
   "metadata": {},
   "outputs": [
    {
     "data": {
      "text/plain": [
       "dtype('<M8[ns]')"
      ]
     },
     "execution_count": 7,
     "metadata": {},
     "output_type": "execute_result"
    }
   ],
   "source": [
    "ts.index.dtype"
   ]
  },
  {
   "cell_type": "code",
   "execution_count": 12,
   "metadata": {},
   "outputs": [
    {
     "data": {
      "text/plain": [
       "Timestamp('2011-01-02 00:00:00')"
      ]
     },
     "execution_count": 12,
     "metadata": {},
     "output_type": "execute_result"
    }
   ],
   "source": [
    "stamp = ts.index[0]\n",
    "stamp"
   ]
  },
  {
   "cell_type": "code",
   "execution_count": 13,
   "metadata": {},
   "outputs": [
    {
     "data": {
      "text/plain": [
       "2011-01-02    0.601376\n",
       "2011-01-05    0.002079\n",
       "2011-01-07    0.871344\n",
       "2011-01-08    0.412043\n",
       "2011-01-10   -1.799326\n",
       "2011-01-12    1.861718\n",
       "dtype: float64"
      ]
     },
     "execution_count": 13,
     "metadata": {},
     "output_type": "execute_result"
    }
   ],
   "source": [
    "ts"
   ]
  },
  {
   "cell_type": "code",
   "execution_count": 14,
   "metadata": {},
   "outputs": [],
   "source": [
    "stamp = ts.index[2]"
   ]
  },
  {
   "cell_type": "code",
   "execution_count": 15,
   "metadata": {},
   "outputs": [
    {
     "data": {
      "text/plain": [
       "0.8713443179107613"
      ]
     },
     "execution_count": 15,
     "metadata": {},
     "output_type": "execute_result"
    }
   ],
   "source": [
    "ts[stamp]"
   ]
  },
  {
   "cell_type": "code",
   "execution_count": 16,
   "metadata": {},
   "outputs": [
    {
     "data": {
      "text/plain": [
       "-1.7993256964901918"
      ]
     },
     "execution_count": 16,
     "metadata": {},
     "output_type": "execute_result"
    }
   ],
   "source": [
    "ts['1/10/2011']"
   ]
  },
  {
   "cell_type": "code",
   "execution_count": 17,
   "metadata": {},
   "outputs": [
    {
     "data": {
      "text/plain": [
       "-1.7993256964901918"
      ]
     },
     "execution_count": 17,
     "metadata": {},
     "output_type": "execute_result"
    }
   ],
   "source": [
    "ts['20110110']"
   ]
  },
  {
   "cell_type": "code",
   "execution_count": 19,
   "metadata": {},
   "outputs": [],
   "source": [
    "longer_ts = pd.Series(np.random.randn(1000),index=pd.date_range('1/1/2000',periods=1000))"
   ]
  },
  {
   "cell_type": "code",
   "execution_count": 20,
   "metadata": {},
   "outputs": [
    {
     "data": {
      "text/plain": [
       "2000-01-01   -1.623092\n",
       "2000-01-02   -0.616753\n",
       "2000-01-03   -0.789062\n",
       "2000-01-04    0.588212\n",
       "2000-01-05    0.411792\n",
       "2000-01-06   -2.049770\n",
       "2000-01-07    2.103172\n",
       "2000-01-08   -0.739285\n",
       "2000-01-09   -0.228836\n",
       "2000-01-10    0.689183\n",
       "2000-01-11    1.014801\n",
       "2000-01-12   -2.408041\n",
       "2000-01-13   -0.786725\n",
       "2000-01-14   -0.046758\n",
       "2000-01-15   -0.799174\n",
       "2000-01-16    2.276103\n",
       "2000-01-17   -0.274246\n",
       "2000-01-18    0.832651\n",
       "2000-01-19   -0.831032\n",
       "2000-01-20    0.101991\n",
       "2000-01-21   -1.172583\n",
       "2000-01-22    1.777345\n",
       "2000-01-23   -0.100794\n",
       "2000-01-24   -0.209893\n",
       "2000-01-25    1.056811\n",
       "2000-01-26    2.092482\n",
       "2000-01-27   -1.254726\n",
       "2000-01-28    0.071332\n",
       "2000-01-29   -0.246939\n",
       "2000-01-30    1.006845\n",
       "                ...   \n",
       "2002-08-28    0.626573\n",
       "2002-08-29    0.723296\n",
       "2002-08-30   -0.902485\n",
       "2002-08-31   -0.484905\n",
       "2002-09-01   -2.331405\n",
       "2002-09-02    1.315661\n",
       "2002-09-03    0.437416\n",
       "2002-09-04   -0.557339\n",
       "2002-09-05    1.180243\n",
       "2002-09-06    0.526343\n",
       "2002-09-07    0.475038\n",
       "2002-09-08   -0.358141\n",
       "2002-09-09    0.874080\n",
       "2002-09-10    0.738102\n",
       "2002-09-11   -0.465028\n",
       "2002-09-12   -0.863759\n",
       "2002-09-13   -0.630525\n",
       "2002-09-14    0.856737\n",
       "2002-09-15   -0.156896\n",
       "2002-09-16   -1.259210\n",
       "2002-09-17   -0.452722\n",
       "2002-09-18    0.789811\n",
       "2002-09-19    1.768051\n",
       "2002-09-20   -2.005562\n",
       "2002-09-21    0.275755\n",
       "2002-09-22    1.198227\n",
       "2002-09-23   -0.958515\n",
       "2002-09-24   -1.079548\n",
       "2002-09-25   -0.502232\n",
       "2002-09-26    0.625302\n",
       "Freq: D, Length: 1000, dtype: float64"
      ]
     },
     "execution_count": 20,
     "metadata": {},
     "output_type": "execute_result"
    }
   ],
   "source": [
    "longer_ts "
   ]
  },
  {
   "cell_type": "code",
   "execution_count": 21,
   "metadata": {},
   "outputs": [
    {
     "data": {
      "text/plain": [
       "2001-01-01   -1.954065\n",
       "2001-01-02    0.507618\n",
       "2001-01-03    2.357738\n",
       "2001-01-04   -0.935753\n",
       "2001-01-05    0.162135\n",
       "2001-01-06   -0.970078\n",
       "2001-01-07   -0.522757\n",
       "2001-01-08   -1.342743\n",
       "2001-01-09   -0.777736\n",
       "2001-01-10    1.274214\n",
       "2001-01-11    0.659122\n",
       "2001-01-12   -1.703159\n",
       "2001-01-13   -0.101920\n",
       "2001-01-14   -0.725515\n",
       "2001-01-15   -0.859196\n",
       "2001-01-16    0.882619\n",
       "2001-01-17    1.088667\n",
       "2001-01-18    0.255946\n",
       "2001-01-19   -1.083135\n",
       "2001-01-20    0.949920\n",
       "2001-01-21    0.286671\n",
       "2001-01-22   -0.750522\n",
       "2001-01-23    0.378606\n",
       "2001-01-24   -1.345260\n",
       "2001-01-25    0.469542\n",
       "2001-01-26   -0.868631\n",
       "2001-01-27   -1.034157\n",
       "2001-01-28    0.923458\n",
       "2001-01-29    2.055169\n",
       "2001-01-30   -0.180402\n",
       "                ...   \n",
       "2001-12-02   -1.073287\n",
       "2001-12-03   -1.143236\n",
       "2001-12-04    1.062075\n",
       "2001-12-05   -0.755672\n",
       "2001-12-06   -1.116754\n",
       "2001-12-07    0.785642\n",
       "2001-12-08    2.000787\n",
       "2001-12-09   -0.756922\n",
       "2001-12-10    0.136668\n",
       "2001-12-11    0.269547\n",
       "2001-12-12   -0.488802\n",
       "2001-12-13   -0.790447\n",
       "2001-12-14   -0.050510\n",
       "2001-12-15   -0.938668\n",
       "2001-12-16   -1.960979\n",
       "2001-12-17   -1.556033\n",
       "2001-12-18   -0.744806\n",
       "2001-12-19    0.765199\n",
       "2001-12-20   -1.905163\n",
       "2001-12-21    1.136484\n",
       "2001-12-22    0.844236\n",
       "2001-12-23    0.785015\n",
       "2001-12-24    0.207304\n",
       "2001-12-25    0.434269\n",
       "2001-12-26   -1.115931\n",
       "2001-12-27    0.272245\n",
       "2001-12-28    1.824489\n",
       "2001-12-29    0.081382\n",
       "2001-12-30    0.488354\n",
       "2001-12-31   -0.142426\n",
       "Freq: D, Length: 365, dtype: float64"
      ]
     },
     "execution_count": 21,
     "metadata": {},
     "output_type": "execute_result"
    }
   ],
   "source": [
    "longer_ts['2001']"
   ]
  },
  {
   "cell_type": "code",
   "execution_count": 22,
   "metadata": {},
   "outputs": [
    {
     "data": {
      "text/plain": [
       "2001-06-01   -0.273496\n",
       "2001-06-02    0.281594\n",
       "2001-06-03   -0.977936\n",
       "2001-06-04    0.972335\n",
       "2001-06-05    0.080832\n",
       "2001-06-06    0.651796\n",
       "2001-06-07    0.830771\n",
       "2001-06-08   -0.322621\n",
       "2001-06-09   -2.107005\n",
       "2001-06-10   -0.189998\n",
       "2001-06-11   -1.468017\n",
       "2001-06-12    0.239222\n",
       "2001-06-13    0.643581\n",
       "2001-06-14   -1.612643\n",
       "2001-06-15    0.663654\n",
       "2001-06-16    1.026511\n",
       "2001-06-17   -1.689183\n",
       "2001-06-18    0.216389\n",
       "2001-06-19    1.192848\n",
       "2001-06-20   -1.368060\n",
       "2001-06-21   -0.033457\n",
       "2001-06-22   -0.409796\n",
       "2001-06-23   -0.196564\n",
       "2001-06-24    0.299241\n",
       "2001-06-25   -0.042274\n",
       "2001-06-26   -0.336187\n",
       "2001-06-27    0.479527\n",
       "2001-06-28    0.350755\n",
       "2001-06-29    1.145662\n",
       "2001-06-30   -0.360987\n",
       "Freq: D, dtype: float64"
      ]
     },
     "execution_count": 22,
     "metadata": {},
     "output_type": "execute_result"
    }
   ],
   "source": [
    "longer_ts['2001-06']"
   ]
  },
  {
   "cell_type": "code",
   "execution_count": 26,
   "metadata": {},
   "outputs": [
    {
     "data": {
      "text/plain": [
       "0.8713443179107613"
      ]
     },
     "execution_count": 26,
     "metadata": {},
     "output_type": "execute_result"
    }
   ],
   "source": [
    "ts[datetime(2011,1,7)]"
   ]
  },
  {
   "cell_type": "code",
   "execution_count": 27,
   "metadata": {},
   "outputs": [
    {
     "data": {
      "text/plain": [
       "2011-01-02    0.601376\n",
       "2011-01-05    0.002079\n",
       "2011-01-07    0.871344\n",
       "2011-01-08    0.412043\n",
       "2011-01-10   -1.799326\n",
       "2011-01-12    1.861718\n",
       "dtype: float64"
      ]
     },
     "execution_count": 27,
     "metadata": {},
     "output_type": "execute_result"
    }
   ],
   "source": [
    "ts"
   ]
  },
  {
   "cell_type": "code",
   "execution_count": 28,
   "metadata": {},
   "outputs": [
    {
     "data": {
      "text/plain": [
       "2011-01-07    0.871344\n",
       "2011-01-08    0.412043\n",
       "2011-01-10   -1.799326\n",
       "dtype: float64"
      ]
     },
     "execution_count": 28,
     "metadata": {},
     "output_type": "execute_result"
    }
   ],
   "source": [
    "ts['1/6/2011':'1/11/2011']"
   ]
  },
  {
   "cell_type": "code",
   "execution_count": 29,
   "metadata": {},
   "outputs": [
    {
     "data": {
      "text/plain": [
       "2011-01-02    0.601376\n",
       "2011-01-05    0.002079\n",
       "2011-01-07    0.871344\n",
       "2011-01-08    0.412043\n",
       "dtype: float64"
      ]
     },
     "execution_count": 29,
     "metadata": {},
     "output_type": "execute_result"
    }
   ],
   "source": [
    "ts.truncate(after='1/9/2011')"
   ]
  },
  {
   "cell_type": "code",
   "execution_count": 37,
   "metadata": {},
   "outputs": [],
   "source": [
    "dates = pd.date_range('1/1/2000',periods=100,freq='W-WED')"
   ]
  },
  {
   "cell_type": "code",
   "execution_count": null,
   "metadata": {},
   "outputs": [],
   "source": []
  },
  {
   "cell_type": "code",
   "execution_count": 38,
   "metadata": {},
   "outputs": [],
   "source": [
    "long_df = pd.DataFrame(np.random.randn(100,4), index=dates,columns=['Colorado','Texas','New York','Ohio']),\n"
   ]
  },
  {
   "cell_type": "code",
   "execution_count": 44,
   "metadata": {},
   "outputs": [
    {
     "ename": "AttributeError",
     "evalue": "'tuple' object has no attribute 'loc'",
     "output_type": "error",
     "traceback": [
      "\u001b[1;31m---------------------------------------------------------------------------\u001b[0m",
      "\u001b[1;31mAttributeError\u001b[0m                            Traceback (most recent call last)",
      "\u001b[1;32m<ipython-input-44-613f849833b6>\u001b[0m in \u001b[0;36m<module>\u001b[1;34m()\u001b[0m\n\u001b[1;32m----> 1\u001b[1;33m \u001b[0mlong_df\u001b[0m\u001b[1;33m.\u001b[0m\u001b[0mloc\u001b[0m\u001b[1;33m[\u001b[0m\u001b[1;34m'5-2001'\u001b[0m\u001b[1;33m]\u001b[0m\u001b[1;33m\u001b[0m\u001b[0m\n\u001b[0m",
      "\u001b[1;31mAttributeError\u001b[0m: 'tuple' object has no attribute 'loc'"
     ]
    }
   ],
   "source": [
    "long_df.loc['5-2001']"
   ]
  },
  {
   "cell_type": "code",
   "execution_count": 1,
   "metadata": {},
   "outputs": [],
   "source": [
    "import pytz"
   ]
  },
  {
   "cell_type": "code",
   "execution_count": 3,
   "metadata": {},
   "outputs": [
    {
     "data": {
      "text/plain": [
       "['US/Eastern', 'US/Hawaii', 'US/Mountain', 'US/Pacific', 'UTC']"
      ]
     },
     "execution_count": 3,
     "metadata": {},
     "output_type": "execute_result"
    }
   ],
   "source": [
    "pytz.common_timezones[-5:]"
   ]
  },
  {
   "cell_type": "code",
   "execution_count": 4,
   "metadata": {},
   "outputs": [],
   "source": [
    "tz = pytz.timezone('America/New_York')"
   ]
  },
  {
   "cell_type": "code",
   "execution_count": 5,
   "metadata": {},
   "outputs": [
    {
     "data": {
      "text/plain": [
       "<DstTzInfo 'America/New_York' LMT-1 day, 19:04:00 STD>"
      ]
     },
     "execution_count": 5,
     "metadata": {},
     "output_type": "execute_result"
    }
   ],
   "source": [
    "tz"
   ]
  },
  {
   "cell_type": "code",
   "execution_count": 6,
   "metadata": {},
   "outputs": [],
   "source": [
    "import pandas as pd\n",
    "import numpy as np"
   ]
  },
  {
   "cell_type": "code",
   "execution_count": 7,
   "metadata": {},
   "outputs": [],
   "source": [
    "rng = pd.date_range('3/9/2012 9:30', periods = 6,freq='D')"
   ]
  },
  {
   "cell_type": "code",
   "execution_count": 8,
   "metadata": {},
   "outputs": [],
   "source": [
    "ts = pd.Series(np.random.randn(len(rng)),index=rng)"
   ]
  },
  {
   "cell_type": "code",
   "execution_count": 9,
   "metadata": {},
   "outputs": [
    {
     "data": {
      "text/plain": [
       "2012-03-09 09:30:00    2.033451\n",
       "2012-03-10 09:30:00    0.788563\n",
       "2012-03-11 09:30:00   -0.309916\n",
       "2012-03-12 09:30:00    0.776805\n",
       "2012-03-13 09:30:00   -0.652801\n",
       "2012-03-14 09:30:00    2.541703\n",
       "Freq: D, dtype: float64"
      ]
     },
     "execution_count": 9,
     "metadata": {},
     "output_type": "execute_result"
    }
   ],
   "source": [
    "ts"
   ]
  },
  {
   "cell_type": "code",
   "execution_count": 10,
   "metadata": {},
   "outputs": [
    {
     "name": "stdout",
     "output_type": "stream",
     "text": [
      "None\n"
     ]
    }
   ],
   "source": [
    "print(ts.index.tz)"
   ]
  },
  {
   "cell_type": "code",
   "execution_count": 13,
   "metadata": {},
   "outputs": [
    {
     "data": {
      "text/plain": [
       "DatetimeIndex(['2012-03-09 09:30:00+00:00', '2012-03-10 09:30:00+00:00',\n",
       "               '2012-03-11 09:30:00+00:00', '2012-03-12 09:30:00+00:00',\n",
       "               '2012-03-13 09:30:00+00:00', '2012-03-14 09:30:00+00:00',\n",
       "               '2012-03-15 09:30:00+00:00', '2012-03-16 09:30:00+00:00',\n",
       "               '2012-03-17 09:30:00+00:00', '2012-03-18 09:30:00+00:00'],\n",
       "              dtype='datetime64[ns, UTC]', freq='D')"
      ]
     },
     "execution_count": 13,
     "metadata": {},
     "output_type": "execute_result"
    }
   ],
   "source": [
    "pd.date_range('3/9/2012 9:30', periods=10,freq='D', tz='UTC')"
   ]
  },
  {
   "cell_type": "code",
   "execution_count": 14,
   "metadata": {},
   "outputs": [
    {
     "data": {
      "text/plain": [
       "2012-03-09 09:30:00    2.033451\n",
       "2012-03-10 09:30:00    0.788563\n",
       "2012-03-11 09:30:00   -0.309916\n",
       "2012-03-12 09:30:00    0.776805\n",
       "2012-03-13 09:30:00   -0.652801\n",
       "2012-03-14 09:30:00    2.541703\n",
       "Freq: D, dtype: float64"
      ]
     },
     "execution_count": 14,
     "metadata": {},
     "output_type": "execute_result"
    }
   ],
   "source": [
    "ts"
   ]
  },
  {
   "cell_type": "code",
   "execution_count": 15,
   "metadata": {},
   "outputs": [
    {
     "data": {
      "text/plain": [
       "2012-03-09 09:30:00+00:00    2.033451\n",
       "2012-03-10 09:30:00+00:00    0.788563\n",
       "2012-03-11 09:30:00+00:00   -0.309916\n",
       "2012-03-12 09:30:00+00:00    0.776805\n",
       "2012-03-13 09:30:00+00:00   -0.652801\n",
       "2012-03-14 09:30:00+00:00    2.541703\n",
       "Freq: D, dtype: float64"
      ]
     },
     "execution_count": 15,
     "metadata": {},
     "output_type": "execute_result"
    }
   ],
   "source": [
    "ts_utc = ts.tz_localize('UTC')\n",
    "ts_utc"
   ]
  },
  {
   "cell_type": "code",
   "execution_count": 16,
   "metadata": {},
   "outputs": [
    {
     "data": {
      "text/plain": [
       "DatetimeIndex(['2012-03-09 09:30:00+00:00', '2012-03-10 09:30:00+00:00',\n",
       "               '2012-03-11 09:30:00+00:00', '2012-03-12 09:30:00+00:00',\n",
       "               '2012-03-13 09:30:00+00:00', '2012-03-14 09:30:00+00:00'],\n",
       "              dtype='datetime64[ns, UTC]', freq='D')"
      ]
     },
     "execution_count": 16,
     "metadata": {},
     "output_type": "execute_result"
    }
   ],
   "source": [
    "ts_utc.index"
   ]
  },
  {
   "cell_type": "code",
   "execution_count": 17,
   "metadata": {},
   "outputs": [
    {
     "data": {
      "text/plain": [
       "2012-03-09 04:30:00-05:00    2.033451\n",
       "2012-03-10 04:30:00-05:00    0.788563\n",
       "2012-03-11 05:30:00-04:00   -0.309916\n",
       "2012-03-12 05:30:00-04:00    0.776805\n",
       "2012-03-13 05:30:00-04:00   -0.652801\n",
       "2012-03-14 05:30:00-04:00    2.541703\n",
       "Freq: D, dtype: float64"
      ]
     },
     "execution_count": 17,
     "metadata": {},
     "output_type": "execute_result"
    }
   ],
   "source": [
    "ts_utc.tz_convert('America/New_York')"
   ]
  },
  {
   "cell_type": "code",
   "execution_count": 19,
   "metadata": {},
   "outputs": [],
   "source": [
    "ts_eastern = ts.tz_localize('America/New_York')"
   ]
  },
  {
   "cell_type": "code",
   "execution_count": null,
   "metadata": {},
   "outputs": [],
   "source": []
  }
 ],
 "metadata": {
  "kernelspec": {
   "display_name": "Python 3",
   "language": "python",
   "name": "python3"
  },
  "language_info": {
   "codemirror_mode": {
    "name": "ipython",
    "version": 3
   },
   "file_extension": ".py",
   "mimetype": "text/x-python",
   "name": "python",
   "nbconvert_exporter": "python",
   "pygments_lexer": "ipython3",
   "version": "3.6.5"
  }
 },
 "nbformat": 4,
 "nbformat_minor": 2
}
